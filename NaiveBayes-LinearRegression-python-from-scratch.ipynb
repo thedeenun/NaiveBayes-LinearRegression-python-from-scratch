{
  "nbformat": 4,
  "nbformat_minor": 0,
  "metadata": {
    "colab": {
      "name": "Homework3.ipynb",
      "provenance": [],
      "collapsed_sections": [
        "GVhR_YU34Zug",
        "MzBNdHjq2Zd8",
        "DBLeV38e5XjZ"
      ],
      "authorship_tag": "ABX9TyMRjyGZps5sy59h0xnpzFgX",
      "include_colab_link": true
    },
    "kernelspec": {
      "name": "python3",
      "display_name": "Python 3"
    },
    "language_info": {
      "name": "python"
    }
  },
  "cells": [
    {
      "cell_type": "markdown",
      "metadata": {
        "id": "view-in-github",
        "colab_type": "text"
      },
      "source": [
        "<a href=\"https://colab.research.google.com/github/thedeenun/NaiveBayes-LinearRegression-python-from-scratch/blob/main/NaiveBayes-LinearRegression-python-from-scratch.ipynb\" target=\"_parent\"><img src=\"https://colab.research.google.com/assets/colab-badge.svg\" alt=\"Open In Colab\"/></a>"
      ]
    },
    {
      "cell_type": "markdown",
      "metadata": {
        "id": "PBs7swssYD_N"
      },
      "source": [
        "#รายชื่อสมาชิก\n",
        "1. นายชิษณุพงษ์ \tเริงหทัยธรรม \t6209650263 \n",
        "2. นายสินชู \tโชติกเสถียร \t6209650289\n",
        "3. นายอาดีนัน \tอับดุลลี \t\t6209650719"
      ]
    },
    {
      "cell_type": "code",
      "metadata": {
        "id": "A8tPlzPVz9Bk"
      },
      "source": [
        "import numpy as np\n",
        "import pandas as pd\n",
        "import math\n",
        "import random\n",
        "import matplotlib.pyplot as plt\n",
        "import seaborn as sns\n",
        "from sklearn.model_selection import train_test_split\n",
        "import warnings\n",
        "warnings.filterwarnings('ignore')"
      ],
      "execution_count": null,
      "outputs": []
    },
    {
      "cell_type": "markdown",
      "source": [
        "Import Dataset ทั้ง 3 dataset\n",
        "1. iris dataset\n",
        "2. red wine dataset\n",
        "3. loan dataset"
      ],
      "metadata": {
        "id": "j3tBcU7Nc7J0"
      }
    },
    {
      "cell_type": "code",
      "metadata": {
        "id": "NNAxE1fk1-UW"
      },
      "source": [
        "iris = pd.read_csv('/content/iris.csv')\n",
        "redwine = pd.read_csv('/content/winequality-red.csv')\n",
        "loan = pd.read_csv('/content/train_loan.csv')"
      ],
      "execution_count": null,
      "outputs": []
    },
    {
      "cell_type": "markdown",
      "metadata": {
        "id": "zntyXSij2TU9"
      },
      "source": [
        "# การบ้านที่ 3 ข้อที่ 2"
      ]
    },
    {
      "cell_type": "markdown",
      "source": [
        "## ข้อที่ 2.1 Create Model"
      ],
      "metadata": {
        "id": "8NpRYLRMdWDG"
      }
    },
    {
      "cell_type": "markdown",
      "source": [
        "### Naive Bayes"
      ],
      "metadata": {
        "id": "GVhR_YU34Zug"
      }
    },
    {
      "cell_type": "code",
      "source": [
        "### ---------------------- ข้อ 2.1 ------------------------- ###\n",
        "class NaiveBayesClassifier():\n",
        "    '''\n",
        "    สูตร Naive Bayes \n",
        "    P(y|X) = P(X|y) * P(y) / P(X)\n",
        "    '''\n",
        "    def cal_statistics(self, features, target):\n",
        "        '''\n",
        "        คำนวณค่า mean, variance ของแต่ละคอลัมน์\n",
        "        ''' \n",
        "        self.mean = features.groupby(target).apply(np.mean).to_numpy()\n",
        "        self.var = features.groupby(target).apply(np.var).to_numpy()\n",
        "              \n",
        "        return self.mean, self.var\n",
        "\n",
        "    def cal_prior(self, features, target):\n",
        "        '''\n",
        "        คำนวณค่า prior probability P(y)\n",
        "        '''\n",
        "        self.prior = (features.groupby(target).apply(lambda x: len(x)) / self.rows).to_numpy()\n",
        "\n",
        "        return self.prior\n",
        "\n",
        "    def gaussian(self, class_idx, x):     \n",
        "        '''\n",
        "        เนื่องข้อมูลที่จะนำมาใช้เป็น continuous values จึงต้อง Gaussian density function ในการคำนวณ\n",
        "        (1/√2pi*σ) * exp((-1/2)*((x-μ)^2)/(2*σ²))\n",
        "        '''\n",
        "        mean = self.mean[class_idx]\n",
        "        var = self.var[class_idx]\n",
        "        numerator = np.exp((-1/2)*((x-mean)**2) / (2 * var))\n",
        "        denominator = np.sqrt(2 * np.pi * var)\n",
        "        prob = numerator / denominator\n",
        "        return prob   \n",
        "\n",
        "    def cal_posterior(self, x):\n",
        "        '''\n",
        "        คำนวณค่า posteriors probability P(X|y)\n",
        "        '''\n",
        "        posteriors = []\n",
        "        \n",
        "        for i in range(self.count):\n",
        "            prior = np.log(self.prior[i])\n",
        "            conditional = np.sum(np.log(self.gaussian(i, x)))\n",
        "            posterior = prior + conditional\n",
        "            posteriors.append(posterior)\n",
        "        \n",
        "        return self.classes[np.argmax(posteriors)]\n",
        "\n",
        "    #ฟังก์ชั่น Fit หรือ เทรนโมเดล จะไปเรียกใช้ฟังก์ชันอื่น ๆ ในโมเดล\n",
        "    def fit(self, features, target):\n",
        "        self.classes = np.unique(target)\n",
        "        self.count = len(self.classes)\n",
        "        self.feature_nums = features.shape[1]\n",
        "        self.rows = features.shape[0]\n",
        "        \n",
        "        self.cal_statistics(features, target)\n",
        "        self.cal_prior(features, target)\n",
        "    \n",
        "    #ฟังก์ชั่น predict หรือ ทำนาย \n",
        "    def predict(self, features):\n",
        "        preds = [self.cal_posterior(f) for f in features.to_numpy()]\n",
        "        return preds\n",
        "\n",
        "    #ฟังก์ชั่น accuracy ในการวัดค่าความแม่นยำ\n",
        "    def accuracy(self, y_test, y_pred):\n",
        "        accuracy = np.sum(y_test == y_pred) / len(y_test)#นำผลรวมของค่าที่เหมือนกันจากตัวแปร y_test ที่เป็นค่าจริง และ y_pred เป็นค่าที่ได้จากการทำนายหารกับจำนวนค่าทั้งหมดที่อยู๋ใน y_test\n",
        "        return accuracy #return ผลลัพธ์ออกเป็นค่า accuracy ที่เป็ฯค่าความแม่นยำของการทำนายเมื่อเทียบกับค่าจริงที่มีอยู่แล้ว"
      ],
      "metadata": {
        "id": "RBsELdnrudio"
      },
      "execution_count": null,
      "outputs": []
    },
    {
      "cell_type": "markdown",
      "source": [
        "### Linear Regression"
      ],
      "metadata": {
        "id": "OeJvMSHadAI_"
      }
    },
    {
      "cell_type": "code",
      "source": [
        "### ---------------------- ข้อ 2.1 ------------------------- ###\n",
        "class LinearRegression():\n",
        "\n",
        "    def __init__(self, learning_rate=0.0001, n_iterations=1000):\n",
        "        self.learning_rate = learning_rate\n",
        "        self.n_iterations = n_iterations\n",
        "        self.theta = None\n",
        "        self.loss = []\n",
        "        self.rmse = []\n",
        "        self.mse = []\n",
        "    \n",
        "    #ฟังก์ชั่น Fit หรือ เทรนโมเดล ที่มีการใช้ Gradient descent และ อัปเดตค่า theta\n",
        "    def fit(self, X, y):\n",
        "        \n",
        "        #กำหนดค่า theta แรกเริ่มให้เป็น 0\n",
        "        self.theta = np.zeros(X.shape[1])\n",
        "     \n",
        "        #Gradient descent\n",
        "        for i in range(self.n_iterations):\n",
        "          y_hat = np.dot(X, self.theta)\n",
        "          j = (1/(2*X.shape[0]))*np.sum(np.square(y_hat - y))\n",
        "          self.loss.append(j)#เก็บค่า loss/error สำหรับแต่ละ iteration\n",
        "\n",
        "          #เก็บค่า RMSE สำหรับแต่ละ iteration\n",
        "          rmse_loss = self.r_mean_squared_error(y, y_hat)\n",
        "          self.rmse.append(rmse_loss)\n",
        "\n",
        "          #เก็บค่า MSE สำหรับแต่ละ iteration\n",
        "          mse_loss = self.mean_squared_error(y, y_hat)\n",
        "          self.mse.append(mse_loss)\n",
        "\n",
        "          #Partial derivatives และ การอัปเดตค่า theta\n",
        "          d_theta = (1/X.shape[0]) * (2* np.dot(X.T, y_hat - y))\n",
        "          self.theta -= self.learning_rate * d_theta\n",
        "\n",
        "    #ฟังก์ชั่น predict หรือ ทำนายโดยนำ feature ของชุดข้อมูลมาคูณกับค่า theta ที่ได้จากการเทรน\n",
        "    def predict(self, X):\n",
        "        return np.dot(X, self.theta)\n",
        "\n",
        "        #ฟังก์ชั่น Root mean squared error   \n",
        "    def r_mean_squared_error(self, y, y_hat):\n",
        "        error = 0\n",
        "        for i in range(len(y)):\n",
        "            error += (y[i] - y_hat[i]) ** 2\n",
        "        return np.sqrt(error/len(y))\n",
        "\n",
        "    #ฟังก์ชั่น Mean squared error\n",
        "    def mean_squared_error(self, y, y_hat):\n",
        "        error = 0\n",
        "        for i in range(len(y)):\n",
        "            error += (y[i] - y_hat[i]) ** 2\n",
        "        return error / len(y)\n",
        "\n",
        "    ### ------------------------ ข้อ 2.4 ------------------------- ###\n",
        "\n",
        "    #การเปรียบเทียบค่า RMSE กับ training set ในแต่ละ iteration ข้อ 2.4.1\n",
        "    def iteration_com_train(self, X, y, iteration):\n",
        "        self.n_iterations = iteration\n",
        "        self.fit(X, y)\n",
        "        for i in range(self.n_iterations):\n",
        "          if(i%(self.n_iterations/10) == 0):\n",
        "            print(\"iteration \",i,\" error: \", self.loss[i],\" and rmse: \", self.rmse[i])\n",
        "    \n",
        "    #การเปรียบเทียบค่า RMSE กับ test set ในแต่ละ iteration ข้อ 2.4.1\n",
        "    def iteration_com_test(self, X_test, y_test, iteration):\n",
        "        self.n_iterations = iteration\n",
        "        for i in range(self.n_iterations):\n",
        "          y_hat = self.predict(X_test)\n",
        "          if(i%(self.n_iterations/10) == 0):\n",
        "            print(\"iteration \",i,\" error: \", self.loss[i],\" and rmse: \", self.r_mean_squared_error(y_test, y_hat))\n",
        "\n",
        "    #การเปรียบเทียบค่า MSE กับ training set เมื่อเปลี่ยนแปลงค่า learning rate ข้อ 2.4.2\n",
        "    def learning_rate_com(self, X, y, learning_rate):\n",
        "        self.learning_rate = learning_rate\n",
        "        self.fit(X, y)\n",
        "        print(\"learning rate: \",self.learning_rate ,\" MSE: \", self.mse[-1])\n"
      ],
      "metadata": {
        "id": "vMnoWFr-Codr"
      },
      "execution_count": null,
      "outputs": []
    },
    {
      "cell_type": "markdown",
      "source": [
        "## ข้อที่ 2.2 Train and Test"
      ],
      "metadata": {
        "id": "t0xcTea2dii3"
      }
    },
    {
      "cell_type": "markdown",
      "metadata": {
        "id": "MzBNdHjq2Zd8"
      },
      "source": [
        "### A.(iris flower)"
      ]
    },
    {
      "cell_type": "markdown",
      "source": [
        "แบ่ง feature กับ output(target) ไว้อยู่ในตัวแปร iris_X และ iris_y ตามลำดับ\n",
        "\n",
        "จากนั้นใช้ฟังก์ชั่น train_test_split ในการแบ่ง data เป็น training set กับ test set เป็น 80:20"
      ],
      "metadata": {
        "id": "tY_-rQauyhR0"
      }
    },
    {
      "cell_type": "code",
      "source": [
        "iris_X, iris_y = iris.iloc[:, :-1], iris.iloc[:, -1]\n",
        "iris_X_train, iris_X_test, iris_y_train, iris_y_test = train_test_split(iris_X, iris_y, test_size=0.2)"
      ],
      "metadata": {
        "id": "SzMcY-OIVE-W"
      },
      "execution_count": null,
      "outputs": []
    },
    {
      "cell_type": "markdown",
      "source": [
        "เรียกใช้โมเดล NaiveBayesClassifier() ไว้ในตัวแปร nb_model\n",
        "\n",
        "เรียกใช้ฟังก์ชั่น fit ในโมเดลที่สร้างไว้เพื่อทำการ train โมเดลโดยใช้ iris_X_train เป็นข้อมูลสอน และ iris_y_train เพื่อเป็นข้อมูลทวนการสอนของโมเดล"
      ],
      "metadata": {
        "id": "Mj9XOttAy5S1"
      }
    },
    {
      "cell_type": "code",
      "source": [
        "nb_model = NaiveBayesClassifier()\n",
        "nb_model.fit(iris_X_train, iris_y_train)"
      ],
      "metadata": {
        "id": "8uOCkDahu2al"
      },
      "execution_count": null,
      "outputs": []
    },
    {
      "cell_type": "markdown",
      "source": [
        "จากนั้นให้โมเดล nb_model ทำการทำนายโดยเรียกใช้ฟังก์ชั่น predict เพื่อทำนายข้อมูลทดสอบใน iris_X_test และเก็บผลลัพธ์ที่ทำนายได้ใน iris_pred"
      ],
      "metadata": {
        "id": "lspkaJQyzgHN"
      }
    },
    {
      "cell_type": "code",
      "source": [
        "iris_pred = nb_model.predict(iris_X_test)"
      ],
      "metadata": {
        "id": "JlopIbxs4s3Y"
      },
      "execution_count": null,
      "outputs": []
    },
    {
      "cell_type": "markdown",
      "source": [
        "นำผลลัพธ์จากการทำนายที่อยู่ใน iris_pred มาเทียบกับข้อมูลเฉลยที่มีอยู่แล้วจาก iris_y_test และแสดงผลลัพธ์ที่เป็นค่าความแม่นยำออกมาตามผลลัพธ์ที่ปรากฎ"
      ],
      "metadata": {
        "id": "weGHzHVvz2pj"
      }
    },
    {
      "cell_type": "code",
      "source": [
        "print(\"Accuracy for Iris: %.4f\" % nb_model.accuracy(iris_y_test, iris_pred))"
      ],
      "metadata": {
        "colab": {
          "base_uri": "https://localhost:8080/"
        },
        "id": "yTTziZ-25I4j",
        "outputId": "4eeea75b-5681-4521-e019-7c64371100ed"
      },
      "execution_count": null,
      "outputs": [
        {
          "output_type": "stream",
          "name": "stdout",
          "text": [
            "Accuracy for Iris: 0.9333\n"
          ]
        }
      ]
    },
    {
      "cell_type": "markdown",
      "metadata": {
        "id": "eP0RUSRh5RQ1"
      },
      "source": [
        "### B.(Red wine)"
      ]
    },
    {
      "cell_type": "markdown",
      "source": [
        "แบ่ง feature กับ output(target) ไว้อยู่ในตัวแปร redwine_X และ redwine_y ตามลำดับ\n",
        "\n",
        "จากนั้นใช้ฟังก์ชั่น train_test_split ในการแบ่ง data เป็น training set กับ test set เป็น 80:20"
      ],
      "metadata": {
        "id": "z-YuF-ss1rQg"
      }
    },
    {
      "cell_type": "code",
      "metadata": {
        "id": "IlbBLgyLfkpX"
      },
      "source": [
        "redwine_X, redwine_y = redwine.iloc[:, :-1].values, redwine.iloc[:, -1].values\n",
        "redwine_X_train, redwine_X_test, redwine_y_train, redwine_y_test = train_test_split(redwine_X, redwine_y, test_size=0.2)"
      ],
      "execution_count": null,
      "outputs": []
    },
    {
      "cell_type": "markdown",
      "source": [
        "เรียกใช้โมเดล LinearRegression() ไว้ในตัวแปร lr_model\n",
        "\n",
        "เรียกใช้ฟังก์ชั่น fit ในโมเดลที่สร้างไว้เพื่อทำการ train โมเดลโดยใช้ redwine_X_train เป็นข้อมูลสอน และ redwine_y_train เพื่อเป็นข้อมูลทวนการสอนของโมเดล"
      ],
      "metadata": {
        "id": "6_uZtqXBmI5-"
      }
    },
    {
      "cell_type": "code",
      "metadata": {
        "id": "z5RvJCTt6ObX"
      },
      "source": [
        "lr_model = LinearRegression()\n",
        "lr_model.fit(redwine_X_train, redwine_y_train)"
      ],
      "execution_count": null,
      "outputs": []
    },
    {
      "cell_type": "markdown",
      "source": [
        "จากนั้นให้โมเดล lr_model ทำการทำนายโดยเรียกใช้ฟังก์ชั่น predict เพื่อทำนายข้อมูลทดสอบใน redwine_X_test และเก็บผลลัพธ์ที่ทำนายได้ใน redwine_pred"
      ],
      "metadata": {
        "id": "fO4c5HjOmSHI"
      }
    },
    {
      "cell_type": "code",
      "source": [
        "redwine_pred = lr_model.predict(redwine_X_test)"
      ],
      "metadata": {
        "id": "sOJDwgq3ph53"
      },
      "execution_count": null,
      "outputs": []
    },
    {
      "cell_type": "markdown",
      "source": [
        "นำผลลัพธ์จากการทำนายที่อยู่ใน redwine_pred มาเทียบกับข้อมูลเฉลยที่มีอยู่แล้วจาก redwine_y_test และแสดงผลลัพธ์ที่เป็นค่า Root mean squared error ออกมาตามผลลัพธ์ที่ปรากฎ"
      ],
      "metadata": {
        "id": "n3mkhpxXmXiZ"
      }
    },
    {
      "cell_type": "code",
      "source": [
        "print(\"RMSE: \", lr_model.r_mean_squared_error(redwine_y_test, redwine_pred))\n",
        "print(\"MSE: \", lr_model.mean_squared_error(redwine_y_test, redwine_pred))"
      ],
      "metadata": {
        "colab": {
          "base_uri": "https://localhost:8080/"
        },
        "id": "GH_LlMoYpgky",
        "outputId": "eb238766-e3b9-406f-bcc5-6b011e8d0f41"
      },
      "execution_count": null,
      "outputs": [
        {
          "output_type": "stream",
          "name": "stdout",
          "text": [
            "RMSE:  0.7322613899295386\n",
            "MSE:  0.5362067431815397\n"
          ]
        }
      ]
    },
    {
      "cell_type": "markdown",
      "metadata": {
        "id": "DBLeV38e5XjZ"
      },
      "source": [
        "### C.(Loan prediction)"
      ]
    },
    {
      "cell_type": "markdown",
      "source": [
        "ในส่วนนี้เป็นขั้นตอนการเตรียมข้อมูลสำหรับชุดข้อมูล Loan\n",
        "1. ทำการดรอปคอลัมน์ Lona_ID ทิ้ง\n",
        "2. ดรอปแถวที่มีค่า Null ทิ้ง\n",
        "3. ทำ One hot encoding เพื่อแปลงข้อมูลที่เป็นประเภท object หรือ string ในอยู่ในรูปแบบ 1 กับ 0 เนื่องจากข้อมูลบางอย่างเป็น Discrete ให้เป็นค่า Continuous"
      ],
      "metadata": {
        "id": "01MGX6mW0YLv"
      }
    },
    {
      "cell_type": "code",
      "source": [
        "loan = loan.drop(columns=['Loan_ID'])#1\n",
        "loan.dropna(axis=0, inplace=True)#2\n",
        "loan = pd.get_dummies(loan, columns = ['Gender', 'Married', 'Dependents', 'Education', 'Self_Employed', 'Property_Area'])#3\n",
        "loan = pd.DataFrame(loan)"
      ],
      "metadata": {
        "id": "432zgYZh8qip"
      },
      "execution_count": null,
      "outputs": []
    },
    {
      "cell_type": "markdown",
      "source": [
        "แบ่ง feature กับ output(target) ไว้อยู่ในตัวแปร loan_X และ loan_y ตามลำดับ\n",
        "\n",
        "จากนั้นใช้ฟังก์ชั่น train_test_split ในการแบ่ง data เป็น training set กับ test set เป็น 80:20"
      ],
      "metadata": {
        "id": "hEj4-9Nl1EW7"
      }
    },
    {
      "cell_type": "code",
      "source": [
        "loan_X, loan_y = loan.drop(columns='Loan_Status'), loan.loc[:,'Loan_Status']\n",
        "loan_X_train, loan_X_test, loan_y_train, loan_y_test = train_test_split(loan_X, loan_y, test_size=0.2)"
      ],
      "metadata": {
        "id": "n2ASEpXB4I65"
      },
      "execution_count": null,
      "outputs": []
    },
    {
      "cell_type": "markdown",
      "source": [
        "เรียกใช้โมเดล NaiveBayesClassifier() ไว้ในตัวแปร nb_model\n",
        "\n",
        "เรียกใช้ฟังก์ชั่น fit ในโมเดลที่สร้างไว้เพื่อทำการ train โมเดลโดยใช้ loan_X_train เป็นข้อมูลสอน และ loan_y_train เพื่อเป็นข้อมูลทวนการสอนของโมเดล"
      ],
      "metadata": {
        "id": "ZTryI4o41VX0"
      }
    },
    {
      "cell_type": "code",
      "source": [
        "nb_model = NaiveBayesClassifier()\n",
        "nb_model.fit(loan_X_train, loan_y_train)"
      ],
      "metadata": {
        "id": "v90Hc_4LAfAw"
      },
      "execution_count": null,
      "outputs": []
    },
    {
      "cell_type": "markdown",
      "source": [
        "จากนั้นให้โมเดล nb_model ทำการทำนายโดยเรียกใช้ฟังก์ชั่น predict เพื่อทำนายข้อมูลทดสอบใน loan_X_test และเก็บผลลัพธ์ที่ทำนายได้ใน loan_pred"
      ],
      "metadata": {
        "id": "8WGBc5pG1cY6"
      }
    },
    {
      "cell_type": "code",
      "source": [
        "loan_pred = nb_model.predict(loan_X_test)"
      ],
      "metadata": {
        "id": "CgRU3HQQAnuh"
      },
      "execution_count": null,
      "outputs": []
    },
    {
      "cell_type": "markdown",
      "source": [
        "นำผลลัพธ์จากการทำนายที่อยู่ใน loan_pred มาเทียบกับข้อมูลเฉลยที่มีอยู่แล้วจาก loan_y_test และแสดงผลลัพธ์ที่เป็นค่าความแม่นยำออกมาตามผลลัพธ์ที่ปรากฎ"
      ],
      "metadata": {
        "id": "NrJGL8So1k8Y"
      }
    },
    {
      "cell_type": "code",
      "source": [
        "print(\"Accuracy for Loan: %.4f\" % nb_model.accuracy(loan_y_test, loan_pred))"
      ],
      "metadata": {
        "colab": {
          "base_uri": "https://localhost:8080/"
        },
        "id": "_RJEl7iZ1Ras",
        "outputId": "0ec45c83-39a3-49f5-9db4-c3aaf342bf9b"
      },
      "execution_count": null,
      "outputs": [
        {
          "output_type": "stream",
          "name": "stdout",
          "text": [
            "Accuracy for Loan: 0.8333\n"
          ]
        }
      ]
    },
    {
      "cell_type": "markdown",
      "source": [
        "## ข้อที่ 2.4 Evaluate Regression model"
      ],
      "metadata": {
        "id": "ILmvYANEdyHn"
      }
    },
    {
      "cell_type": "markdown",
      "source": [
        "### ข้อที่ 2.4.1 เปรียบเทียบค่า RMSE เฉลี่ยของ Training set และ Test set สําหรับแต่ละ Iteration\n"
      ],
      "metadata": {
        "id": "sPbMvy8TrYAt"
      }
    },
    {
      "cell_type": "markdown",
      "source": [
        "ใช้โมเดล lr_model เรียกใช้ฟังก์ชัน iteration_com_train สำหรับเปรียบเที่ยบค่า RMSE เฉลี่ยของ training set ตามจำนวน iteration ที่กำหนดไว้ และแสดงผลลัพธ์ออกมาพร้อมกับค่า loss และ RMSE\n",
        "\n",
        "ใช้โมเดล lr_model เรียกใช้ฟังก์ชัน iteration_com_test สำหรับเปรียบเที่ยบค่า RMSE เฉลี่ยของ test set ตามจำนวน iteration ที่กำหนดไว้ และแสดงผลลัพธ์ออกมาพร้อมกับค่า loss และ RMSE"
      ],
      "metadata": {
        "id": "Bp7u2f8TmqZe"
      }
    },
    {
      "cell_type": "code",
      "source": [
        "print(\"Training set:\")\n",
        "lr_model.iteration_com_train(redwine_X_train, redwine_y_train, iteration=1000)\n",
        "print(\"\\nTest set:\")\n",
        "lr_model.iteration_com_test(redwine_X_test, redwine_y_test, iteration=1000)"
      ],
      "metadata": {
        "id": "7rkMPjD7rmIP",
        "colab": {
          "base_uri": "https://localhost:8080/"
        },
        "outputId": "eb55a486-dab8-4081-a774-4f94cc50f415"
      },
      "execution_count": null,
      "outputs": [
        {
          "output_type": "stream",
          "name": "stdout",
          "text": [
            "Training set:\n",
            "iteration  0  error:  16.216575449569977  and rmse:  5.695011053469515\n",
            "iteration  100  error:  0.6654564386745815  and rmse:  1.1536519741018796\n",
            "iteration  200  error:  0.3390327860621484  and rmse:  0.8234473705855746\n",
            "iteration  300  error:  0.29168380827693646  and rmse:  0.763785059132392\n",
            "iteration  400  error:  0.2809623931449236  and rmse:  0.7496164261072775\n",
            "iteration  500  error:  0.2766491731631976  and rmse:  0.7438402693632523\n",
            "iteration  600  error:  0.2736907495292878  and rmse:  0.7398523494985844\n",
            "iteration  700  error:  0.2711772949568382  and rmse:  0.7364472757188231\n",
            "iteration  800  error:  0.26892815700215056  and rmse:  0.733386878805655\n",
            "iteration  900  error:  0.26689375390949693  and rmse:  0.7306076291820344\n",
            "\n",
            "Test set:\n",
            "iteration  0  error:  16.216575449569977  and rmse:  0.7322613899295386\n",
            "iteration  100  error:  0.6654564386745815  and rmse:  0.7322613899295386\n",
            "iteration  200  error:  0.3390327860621484  and rmse:  0.7322613899295386\n",
            "iteration  300  error:  0.29168380827693646  and rmse:  0.7322613899295386\n",
            "iteration  400  error:  0.2809623931449236  and rmse:  0.7322613899295386\n",
            "iteration  500  error:  0.2766491731631976  and rmse:  0.7322613899295386\n",
            "iteration  600  error:  0.2736907495292878  and rmse:  0.7322613899295386\n",
            "iteration  700  error:  0.2711772949568382  and rmse:  0.7322613899295386\n",
            "iteration  800  error:  0.26892815700215056  and rmse:  0.7322613899295386\n",
            "iteration  900  error:  0.26689375390949693  and rmse:  0.7322613899295386\n"
          ]
        }
      ]
    },
    {
      "cell_type": "markdown",
      "source": [
        "จากผลลัพธ์จะเห็นได้ว่า สำหรับชุดข้อมูล training set ค่า RMSE เฉลี่ยของแต่ละรอบจะยิ่งลดลงไปเรื่อย ๆ ตามจำนวน iteration ที่กำหนด\n",
        "\n",
        "แต่สำหรับชุดข้อมูล test set ค่า RMSE เฉลี่ยของแต่ละรอบจะมีค่าเท่ากันในทุกรอบ เนื่องจากโมเดลจะทำการนำค่า y_hat คือผลลัพธ์ของการทดสอบมาเทียบกับค่าจริงที่อยู่ใน redwine_y_test และทุกครั้งที่นำมาเทียบค่าที่อยู๋ใน y_hat ที่ได้จากการทดสอบยังทดสอบได้ค่าเดิมเสมอ จึงทำให้ค่า RMSE มีค่าเท่ากันเสมอ"
      ],
      "metadata": {
        "id": "wn1VKls3nI0a"
      }
    },
    {
      "cell_type": "markdown",
      "source": [
        "### ข้อที่ 2.4.2 เปรียบเทียบค่าของ Squared Errors ของ Training set เมื่อมีการเปลี่ยนแปลงค่า Learning rate"
      ],
      "metadata": {
        "id": "EocS8VhgrdD7"
      }
    },
    {
      "cell_type": "markdown",
      "source": [
        "ใช้โมเดล lr_model เรียกใช้ฟังก์ชั่น learning_rate_com โดยการจูนพารามิเตอร์ learning_rate และแสดงผลลัพธ์เป็นค่า MSE (Squared error)"
      ],
      "metadata": {
        "id": "Ibf4X5UBoKLQ"
      }
    },
    {
      "cell_type": "code",
      "source": [
        "lr_model.learning_rate_com(redwine_X_train, redwine_y_train, learning_rate=0.0001)"
      ],
      "metadata": {
        "colab": {
          "base_uri": "https://localhost:8080/"
        },
        "id": "e2HaISDbTDxA",
        "outputId": "1cc590ea-1ed6-4379-aa4d-6426c8db4650"
      },
      "execution_count": null,
      "outputs": [
        {
          "output_type": "stream",
          "name": "stdout",
          "text": [
            "learning rate:  0.0001  MSE:  0.5301339834692355\n"
          ]
        }
      ]
    },
    {
      "cell_type": "code",
      "source": [
        "lr_model.learning_rate_com(redwine_X_train, redwine_y_train, learning_rate=0.00005)"
      ],
      "metadata": {
        "colab": {
          "base_uri": "https://localhost:8080/"
        },
        "id": "vLMSe5qyrJP2",
        "outputId": "91756c22-71ce-416d-eb46-ac01bd5e2cc7"
      },
      "execution_count": null,
      "outputs": [
        {
          "output_type": "stream",
          "name": "stdout",
          "text": [
            "learning rate:  5e-05  MSE:  0.5533460756698676\n"
          ]
        }
      ]
    }
  ]
}